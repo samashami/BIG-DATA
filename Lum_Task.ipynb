{
  "nbformat": 4,
  "nbformat_minor": 0,
  "metadata": {
    "colab": {
      "provenance": [],
      "authorship_tag": "ABX9TyP1eS/B2MW3hNdsyc+t7c4t",
      "include_colab_link": true
    },
    "kernelspec": {
      "name": "python3",
      "display_name": "Python 3"
    },
    "language_info": {
      "name": "python"
    }
  },
  "cells": [
    {
      "cell_type": "markdown",
      "metadata": {
        "id": "view-in-github",
        "colab_type": "text"
      },
      "source": [
        "<a href=\"https://colab.research.google.com/github/samashami/BIG-DATA/blob/main/Lum_Task.ipynb\" target=\"_parent\"><img src=\"https://colab.research.google.com/assets/colab-badge.svg\" alt=\"Open In Colab\"/></a>"
      ]
    },
    {
      "cell_type": "code",
      "source": [
        "from google.colab import drive\n",
        "drive.mount('/content/drive')"
      ],
      "metadata": {
        "colab": {
          "base_uri": "https://localhost:8080/"
        },
        "id": "efQUAtxKsleo",
        "outputId": "9c05f4e6-fc14-4499-e2af-8667cca81500"
      },
      "execution_count": null,
      "outputs": [
        {
          "output_type": "stream",
          "name": "stdout",
          "text": [
            "Mounted at /content/drive\n"
          ]
        }
      ]
    },
    {
      "cell_type": "markdown",
      "source": [
        "Step 1: Install & Import Libraries"
      ],
      "metadata": {
        "id": "CfpNsZSgFR5a"
      }
    },
    {
      "cell_type": "code",
      "source": [
        "!pip install ezdxf"
      ],
      "metadata": {
        "colab": {
          "base_uri": "https://localhost:8080/"
        },
        "id": "z6ecbndVEncE",
        "outputId": "9532bb1c-7246-4ae1-d923-d5a8c307d5f8"
      },
      "execution_count": null,
      "outputs": [
        {
          "output_type": "stream",
          "name": "stdout",
          "text": [
            "Collecting ezdxf\n",
            "  Downloading ezdxf-1.3.5-cp311-cp311-manylinux_2_17_x86_64.manylinux2014_x86_64.whl.metadata (9.8 kB)\n",
            "Requirement already satisfied: pyparsing>=2.0.1 in /usr/local/lib/python3.11/dist-packages (from ezdxf) (3.2.1)\n",
            "Requirement already satisfied: typing_extensions>=4.6.0 in /usr/local/lib/python3.11/dist-packages (from ezdxf) (4.12.2)\n",
            "Requirement already satisfied: numpy in /usr/local/lib/python3.11/dist-packages (from ezdxf) (1.26.4)\n",
            "Requirement already satisfied: fonttools in /usr/local/lib/python3.11/dist-packages (from ezdxf) (4.55.7)\n",
            "Downloading ezdxf-1.3.5-cp311-cp311-manylinux_2_17_x86_64.manylinux2014_x86_64.whl (5.6 MB)\n",
            "\u001b[2K   \u001b[90m━━━━━━━━━━━━━━━━━━━━━━━━━━━━━━━━━━━━━━━━\u001b[0m \u001b[32m5.6/5.6 MB\u001b[0m \u001b[31m46.7 MB/s\u001b[0m eta \u001b[36m0:00:00\u001b[0m\n",
            "\u001b[?25hInstalling collected packages: ezdxf\n",
            "Successfully installed ezdxf-1.3.5\n"
          ]
        }
      ]
    },
    {
      "cell_type": "code",
      "source": [
        "import ezdxf\n",
        "import os"
      ],
      "metadata": {
        "id": "je7Kf3NYEzxy"
      },
      "execution_count": null,
      "outputs": []
    },
    {
      "cell_type": "markdown",
      "source": [
        "Step 2: Load and Inspect the DXF File"
      ],
      "metadata": {
        "id": "MlgzXwSUFXb4"
      }
    },
    {
      "cell_type": "code",
      "source": [
        "# Define the path to the uploaded DXF file\n",
        "dxf_file_path = \"/content/drive/My Drive/e5.dxf\"\n",
        "\n",
        "# Load the DXF file\n",
        "try:\n",
        "    doc = ezdxf.readfile(dxf_file_path)\n",
        "    print(\"DXF file successfully loaded.\")\n",
        "except Exception as e:\n",
        "    print(f\"Error loading DXF file: {e}\")\n",
        "\n",
        "# Get the model space, where drawing entities are stored\n",
        "msp = doc.modelspace()\n",
        "\n",
        "# Print a summary of all entities in the DXF file\n",
        "for entity in msp:\n",
        "    print(f\"Type: {entity.dxftype()}, Layer: {entity.dxf.layer}\")"
      ],
      "metadata": {
        "colab": {
          "base_uri": "https://localhost:8080/"
        },
        "id": "RhawIGhpE2hq",
        "outputId": "d1d2f8ae-435a-41ff-9e64-518c218512ea"
      },
      "execution_count": null,
      "outputs": [
        {
          "output_type": "stream",
          "name": "stdout",
          "text": [
            "DXF file successfully loaded.\n",
            "Type: POLYLINE, Layer: 0\n",
            "Type: CIRCLE, Layer: 0\n",
            "Type: CIRCLE, Layer: 0\n",
            "Type: CIRCLE, Layer: 0\n",
            "Type: CIRCLE, Layer: 0\n",
            "Type: CIRCLE, Layer: 0\n",
            "Type: CIRCLE, Layer: 0\n"
          ]
        }
      ]
    },
    {
      "cell_type": "markdown",
      "source": [
        "Step 3: Extract Dimensions and Properties"
      ],
      "metadata": {
        "id": "IZduacTDFbZQ"
      }
    },
    {
      "cell_type": "code",
      "source": [
        "# Helper function to calculate distance between two points\n",
        "def calculate_distance(point1, point2):\n",
        "    return ((point2[0] - point1[0]) ** 2 + (point2[1] - point1[1]) ** 2) ** 0.5\n",
        "\n",
        "# Initialize variables to store the rectangle's coordinates\n",
        "rect_vertices = []\n",
        "\n",
        "# Extract rectangle dimensions and coordinates\n",
        "for entity in msp:\n",
        "    if entity.dxftype() == 'POLYLINE':\n",
        "        # Directly access vertices if they are stored as a list\n",
        "        rect_vertices = [vertex.dxf.location for vertex in entity.vertices]\n",
        "        print(\"Vertices of the rectangle:\", rect_vertices)\n",
        "\n",
        "# Calculate width and height of the rectangle\n",
        "if len(rect_vertices) >= 4:  # Check for at least four corners (rectangular)\n",
        "    # Assuming vertices are listed sequentially around the shape\n",
        "    width = calculate_distance(rect_vertices[0], rect_vertices[1])\n",
        "    height = calculate_distance(rect_vertices[1], rect_vertices[2])\n",
        "    print(f\"Width: {width}, Height: {height}\")\n",
        "else:\n",
        "    print(\"Not enough vertices to determine dimensions.\")"
      ],
      "metadata": {
        "id": "VoosmD9Cs75d",
        "colab": {
          "base_uri": "https://localhost:8080/"
        },
        "outputId": "594cfdca-5d7f-4f1a-e1de-1c3061c5d3e8"
      },
      "execution_count": null,
      "outputs": [
        {
          "output_type": "stream",
          "name": "stdout",
          "text": [
            "Vertices of the rectangle: [Vec3(0.0, 0.0, 0.0), Vec3(1202.5, 0.0, 0.0), Vec3(1202.5, 1005.000000000001, 0.0), Vec3(0.0, 1005.000000000001, 0.0)]\n",
            "Width: 1202.5, Height: 1005.000000000001\n"
          ]
        }
      ]
    },
    {
      "cell_type": "markdown",
      "source": [
        "Step 4: Adjusting Drill Hole Data Extraction"
      ],
      "metadata": {
        "id": "C2YhYR0LF4eO"
      }
    },
    {
      "cell_type": "code",
      "source": [
        "# Bottom-right corner of the rectangle\n",
        "bottom_right_x = max(vertex.x for vertex in rect_vertices)\n",
        "bottom_right_y = min(vertex.y for vertex in rect_vertices)\n",
        "\n",
        "# Drill hole information extraction with relative coordinates\n",
        "for entity in msp:\n",
        "    if entity.dxftype() == 'CIRCLE':\n",
        "        center = entity.dxf.center\n",
        "        radius = entity.dxf.radius\n",
        "        diameter = 2 * radius\n",
        "        # Calculate relative coordinates from the bottom-right corner\n",
        "        rel_x = bottom_right_x - center.x\n",
        "        rel_y = bottom_right_y - center.y\n",
        "        print(f\"Drill Hole: Center = ({center.x}, {center.y}), Diameter = {diameter} mm, Relative Position = ({rel_x}, {rel_y})\")"
      ],
      "metadata": {
        "colab": {
          "base_uri": "https://localhost:8080/"
        },
        "id": "zxl2L1ruFMlB",
        "outputId": "9e60e34a-cfd8-417c-e4bb-94b375b7e0c5"
      },
      "execution_count": null,
      "outputs": [
        {
          "output_type": "stream",
          "name": "stdout",
          "text": [
            "Drill Hole: Center = (1052.5, 840.0000000000005), Diameter = 25.0 mm, Relative Position = (150.0, -840.0000000000005)\n",
            "Drill Hole: Center = (601.2499999999997, 979.9999999999997), Diameter = 25.0 mm, Relative Position = (601.2500000000003, -979.9999999999997)\n",
            "Drill Hole: Center = (149.9999999999998, 840.0000000000005), Diameter = 25.0 mm, Relative Position = (1052.5000000000002, -840.0000000000005)\n",
            "Drill Hole: Center = (149.9999999999998, 979.9999999999997), Diameter = 25.0 mm, Relative Position = (1052.5000000000002, -979.9999999999997)\n",
            "Drill Hole: Center = (601.2499999999997, 840.0000000000003), Diameter = 25.0 mm, Relative Position = (601.2500000000003, -840.0000000000003)\n",
            "Drill Hole: Center = (1052.5, 979.9999999999998), Diameter = 25.0 mm, Relative Position = (150.0, -979.9999999999998)\n"
          ]
        }
      ]
    },
    {
      "cell_type": "markdown",
      "source": [
        "Step 5: Modify Colors & Layers"
      ],
      "metadata": {
        "id": "38btp5k5GD_Q"
      }
    },
    {
      "cell_type": "code",
      "source": [
        "# Change the layer and color of the drill holes\n",
        "for entity in msp:\n",
        "    if entity.dxftype() == 'CIRCLE':\n",
        "        entity.dxf.layer = 'ModifiedLayer'  # Change to a new layer name\n",
        "        entity.dxf.color = 4  # Setting the color to a predefined number (4 - Cyan in standard AutoCAD colors)\n",
        "\n",
        "# Save the modified DXF\n",
        "modified_dxf_path = \"/content/drive/My Drive/modified_e5.dxf\"\n",
        "doc.saveas(modified_dxf_path)\n",
        "print(f\"Modified DXF file saved as {modified_dxf_path}\")"
      ],
      "metadata": {
        "colab": {
          "base_uri": "https://localhost:8080/"
        },
        "id": "UNCdJHi_F8tg",
        "outputId": "e1a1ac76-7964-4e53-9df7-2f02a2a91b73"
      },
      "execution_count": null,
      "outputs": [
        {
          "output_type": "stream",
          "name": "stdout",
          "text": [
            "Modified DXF file saved as /content/drive/My Drive/modified_e5.dxf\n"
          ]
        }
      ]
    },
    {
      "cell_type": "markdown",
      "source": [
        "Step 6: Add Dimensions and Annotations"
      ],
      "metadata": {
        "id": "Qw0-oOa8GY_4"
      }
    },
    {
      "cell_type": "code",
      "source": [
        "import ezdxf\n",
        "\n",
        "# Load the modified DXF file\n",
        "doc = ezdxf.readfile(\"/content/drive/My Drive/modified_e5.dxf\")\n",
        "msp = doc.modelspace()\n",
        "\n",
        "# Add dimensions for the rectangle (assuming this part is already correctly implemented)\n",
        "\n",
        "# Adding diameter dimensions to each drill hole\n",
        "for entity in msp.query('CIRCLE'):\n",
        "    center = entity.dxf.center\n",
        "    radius = entity.dxf.radius\n",
        "    # Place the dimension slightly offset from the center\n",
        "    # Here we need to create a dimension entity manually since add_diameter_dim may not work as expected\n",
        "    leader_offset = 1.5 * radius  # Leader line offset from the center\n",
        "    dimension_line_position = (center.x + leader_offset, center.y + leader_offset)\n",
        "    msp.add_circle(center=center, radius=radius, dxfattribs={'color': 4})\n",
        "    # Use basic dimensioning if specific diameter dimensioning is problematic\n",
        "    msp.add_linear_dim(\n",
        "        base=dimension_line_position,\n",
        "        p1=(center.x - radius, center.y),\n",
        "        p2=(center.x + radius, center.y),\n",
        "        angle=0\n",
        "    ).render()\n",
        "\n",
        "# Save the updated DXF with dimensions\n",
        "doc.saveas(\"/content/drive/My Drive/annotated_e5.dxf\")\n",
        "print(\"Annotated DXF file saved.\")"
      ],
      "metadata": {
        "colab": {
          "base_uri": "https://localhost:8080/"
        },
        "id": "_VxJKq1zGF_-",
        "outputId": "d9c57f47-64d6-44c0-f92a-a14bd92dff5d"
      },
      "execution_count": null,
      "outputs": [
        {
          "output_type": "stream",
          "name": "stdout",
          "text": [
            "Annotated DXF file saved.\n"
          ]
        }
      ]
    },
    {
      "cell_type": "code",
      "source": [
        "import ezdxf\n",
        "\n",
        "def print_dxf_details(file_path):\n",
        "    doc = ezdxf.readfile(file_path)\n",
        "    msp = doc.modelspace()\n",
        "    print(f\"Details for {file_path}:\")\n",
        "    for entity in msp:\n",
        "        # Use hasattr() to check if the 'color' attribute exists\n",
        "        color = entity.dxf.color if hasattr(entity.dxf, 'color') else 'Default'\n",
        "        print(f\"Type: {entity.dxftype()}, Layer: {entity.dxf.layer}, Color: {color}\")\n",
        "\n",
        "    # Check for dimensions if present\n",
        "    dimensions = msp.query('DIMENSION')\n",
        "    if dimensions:\n",
        "        for dim in dimensions:\n",
        "            print(f\"Dimension Type: {dim.dxftype()}, Layer: {dim.dxf.layer}\")\n",
        "    else:\n",
        "        print(\"No dimensions found.\")\n",
        "\n",
        "# List of file paths\n",
        "file_paths = [\"/content/drive/My Drive/e5.dxf\", \"/content/drive/My Drive/modified_e5.dxf\", \"/content/drive/My Drive/annotated_e5.dxf\"]\n",
        "for path in file_paths:\n",
        "    print_dxf_details(path)\n",
        "\n",
        "file_paths = [\"/content/drive/My Drive/e5.dxf\", \"/content/drive/My Drive/modified_e5.dxf\", \"/content/drive/My Drive/annotated_e5.dxf\"]\n",
        "for path in file_paths:\n",
        "    print_dxf_details(path)"
      ],
      "metadata": {
        "colab": {
          "base_uri": "https://localhost:8080/"
        },
        "id": "dwQIRrBSGcLq",
        "outputId": "00efc4b1-4bdc-4f9e-a935-35280b92f684"
      },
      "execution_count": null,
      "outputs": [
        {
          "output_type": "stream",
          "name": "stdout",
          "text": [
            "Details for /content/drive/My Drive/e5.dxf:\n",
            "Type: POLYLINE, Layer: 0, Color: 256\n",
            "Type: CIRCLE, Layer: 0, Color: 256\n",
            "Type: CIRCLE, Layer: 0, Color: 256\n",
            "Type: CIRCLE, Layer: 0, Color: 256\n",
            "Type: CIRCLE, Layer: 0, Color: 256\n",
            "Type: CIRCLE, Layer: 0, Color: 256\n",
            "Type: CIRCLE, Layer: 0, Color: 256\n",
            "No dimensions found.\n",
            "Details for /content/drive/My Drive/modified_e5.dxf:\n",
            "Type: POLYLINE, Layer: 0, Color: 256\n",
            "Type: CIRCLE, Layer: ModifiedLayer, Color: 4\n",
            "Type: CIRCLE, Layer: ModifiedLayer, Color: 4\n",
            "Type: CIRCLE, Layer: ModifiedLayer, Color: 4\n",
            "Type: CIRCLE, Layer: ModifiedLayer, Color: 4\n",
            "Type: CIRCLE, Layer: ModifiedLayer, Color: 4\n",
            "Type: CIRCLE, Layer: ModifiedLayer, Color: 4\n",
            "No dimensions found.\n",
            "Details for /content/drive/My Drive/annotated_e5.dxf:\n",
            "Type: POLYLINE, Layer: 0, Color: 256\n",
            "Type: CIRCLE, Layer: ModifiedLayer, Color: 4\n",
            "Type: CIRCLE, Layer: ModifiedLayer, Color: 4\n",
            "Type: CIRCLE, Layer: ModifiedLayer, Color: 4\n",
            "Type: CIRCLE, Layer: ModifiedLayer, Color: 4\n",
            "Type: CIRCLE, Layer: ModifiedLayer, Color: 4\n",
            "Type: CIRCLE, Layer: ModifiedLayer, Color: 4\n",
            "Type: CIRCLE, Layer: 0, Color: 4\n",
            "Type: DIMENSION, Layer: 0, Color: 256\n",
            "Type: CIRCLE, Layer: 0, Color: 4\n",
            "Type: DIMENSION, Layer: 0, Color: 256\n",
            "Type: CIRCLE, Layer: 0, Color: 4\n",
            "Type: DIMENSION, Layer: 0, Color: 256\n",
            "Type: CIRCLE, Layer: 0, Color: 4\n",
            "Type: DIMENSION, Layer: 0, Color: 256\n",
            "Type: CIRCLE, Layer: 0, Color: 4\n",
            "Type: DIMENSION, Layer: 0, Color: 256\n",
            "Type: CIRCLE, Layer: 0, Color: 4\n",
            "Type: DIMENSION, Layer: 0, Color: 256\n",
            "Dimension Type: DIMENSION, Layer: 0\n",
            "Dimension Type: DIMENSION, Layer: 0\n",
            "Dimension Type: DIMENSION, Layer: 0\n",
            "Dimension Type: DIMENSION, Layer: 0\n",
            "Dimension Type: DIMENSION, Layer: 0\n",
            "Dimension Type: DIMENSION, Layer: 0\n",
            "Details for /content/drive/My Drive/e5.dxf:\n",
            "Type: POLYLINE, Layer: 0, Color: 256\n",
            "Type: CIRCLE, Layer: 0, Color: 256\n",
            "Type: CIRCLE, Layer: 0, Color: 256\n",
            "Type: CIRCLE, Layer: 0, Color: 256\n",
            "Type: CIRCLE, Layer: 0, Color: 256\n",
            "Type: CIRCLE, Layer: 0, Color: 256\n",
            "Type: CIRCLE, Layer: 0, Color: 256\n",
            "No dimensions found.\n",
            "Details for /content/drive/My Drive/modified_e5.dxf:\n",
            "Type: POLYLINE, Layer: 0, Color: 256\n",
            "Type: CIRCLE, Layer: ModifiedLayer, Color: 4\n",
            "Type: CIRCLE, Layer: ModifiedLayer, Color: 4\n",
            "Type: CIRCLE, Layer: ModifiedLayer, Color: 4\n",
            "Type: CIRCLE, Layer: ModifiedLayer, Color: 4\n",
            "Type: CIRCLE, Layer: ModifiedLayer, Color: 4\n",
            "Type: CIRCLE, Layer: ModifiedLayer, Color: 4\n",
            "No dimensions found.\n",
            "Details for /content/drive/My Drive/annotated_e5.dxf:\n",
            "Type: POLYLINE, Layer: 0, Color: 256\n",
            "Type: CIRCLE, Layer: ModifiedLayer, Color: 4\n",
            "Type: CIRCLE, Layer: ModifiedLayer, Color: 4\n",
            "Type: CIRCLE, Layer: ModifiedLayer, Color: 4\n",
            "Type: CIRCLE, Layer: ModifiedLayer, Color: 4\n",
            "Type: CIRCLE, Layer: ModifiedLayer, Color: 4\n",
            "Type: CIRCLE, Layer: ModifiedLayer, Color: 4\n",
            "Type: CIRCLE, Layer: 0, Color: 4\n",
            "Type: DIMENSION, Layer: 0, Color: 256\n",
            "Type: CIRCLE, Layer: 0, Color: 4\n",
            "Type: DIMENSION, Layer: 0, Color: 256\n",
            "Type: CIRCLE, Layer: 0, Color: 4\n",
            "Type: DIMENSION, Layer: 0, Color: 256\n",
            "Type: CIRCLE, Layer: 0, Color: 4\n",
            "Type: DIMENSION, Layer: 0, Color: 256\n",
            "Type: CIRCLE, Layer: 0, Color: 4\n",
            "Type: DIMENSION, Layer: 0, Color: 256\n",
            "Type: CIRCLE, Layer: 0, Color: 4\n",
            "Type: DIMENSION, Layer: 0, Color: 256\n",
            "Dimension Type: DIMENSION, Layer: 0\n",
            "Dimension Type: DIMENSION, Layer: 0\n",
            "Dimension Type: DIMENSION, Layer: 0\n",
            "Dimension Type: DIMENSION, Layer: 0\n",
            "Dimension Type: DIMENSION, Layer: 0\n",
            "Dimension Type: DIMENSION, Layer: 0\n"
          ]
        }
      ]
    },
    {
      "cell_type": "code",
      "source": [],
      "metadata": {
        "id": "KCYcOkjbKY_T"
      },
      "execution_count": null,
      "outputs": []
    }
  ]
}