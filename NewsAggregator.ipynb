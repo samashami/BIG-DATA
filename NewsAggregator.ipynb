{
 "cells": [
  {
   "cell_type": "markdown",
   "id": "af015cba",
   "metadata": {},
   "source": [
    "News Aggregator dataset from uci: https://archive.ics.uci.edu/ml/datasets/News+Aggregator"
   ]
  },
  {
   "cell_type": "markdown",
   "id": "9f77631b",
   "metadata": {},
   "source": [
    "Somayeh Shami - somayeh.shami@studio.unibo.it"
   ]
  },
  {
   "attachments": {},
   "cell_type": "markdown",
   "id": "f288b932",
   "metadata": {},
   "source": [
    "Install  libraries"
   ]
  },
  {
   "cell_type": "code",
   "execution_count": 1,
   "id": "534ca98c",
   "metadata": {},
   "outputs": [
    {
     "name": "stdout",
     "output_type": "stream",
     "text": [
      "Requirement already satisfied: pyspark in c:\\users\\lenovo\\anaconda3\\envs\\bda\\lib\\site-packages (3.3.1)\n",
      "Requirement already satisfied: py4j==0.10.9.5 in c:\\users\\lenovo\\anaconda3\\envs\\bda\\lib\\site-packages (from pyspark) (0.10.9.5)\n"
     ]
    }
   ],
   "source": [
    "!pip install pyspark"
   ]
  },
  {
   "cell_type": "code",
   "execution_count": 2,
   "id": "d397c3cc",
   "metadata": {},
   "outputs": [
    {
     "name": "stdout",
     "output_type": "stream",
     "text": [
      "Requirement already satisfied: findspark in c:\\users\\lenovo\\anaconda3\\envs\\bda\\lib\\site-packages (2.0.1)\n"
     ]
    }
   ],
   "source": [
    "!pip install findspark"
   ]
  },
  {
   "attachments": {},
   "cell_type": "markdown",
   "id": "5a001026",
   "metadata": {},
   "source": [
    "Import required libraries"
   ]
  },
  {
   "cell_type": "code",
   "execution_count": 3,
   "id": "bf6c732e",
   "metadata": {},
   "outputs": [],
   "source": [
    "import os\n",
    "import findspark\n",
    "from pyspark.sql import SparkSession\n",
    "from pyspark import SparkContext\n",
    "os.environ[\"JAVA_HOME\"] = \"C:\\Program Files\\Java\\jdk-19\"\n",
    "os.environ[\"SPARK_HOME\"] = 'C:\\\\Users\\\\Lenovo\\\\Desktop\\\\BDAVM\\\\spark'\n",
    "findspark.init()\n",
    "from pyspark.sql import SparkSession"
   ]
  },
  {
   "cell_type": "code",
   "execution_count": 4,
   "id": "6c6876c5",
   "metadata": {},
   "outputs": [],
   "source": [
    "from pyspark.ml import Pipeline \n",
    "from pyspark.ml.feature import CountVectorizer,StringIndexer, RegexTokenizer,StopWordsRemover\n",
    "from pyspark.sql.functions import col, udf,regexp_replace,isnull\n",
    "from pyspark.sql.types import StringType,IntegerType\n",
    "from pyspark.ml.classification import NaiveBayes\n",
    "from pyspark.ml.evaluation import MulticlassClassificationEvaluator"
   ]
  },
  {
   "cell_type": "markdown",
   "id": "6b2bf6e7",
   "metadata": {},
   "source": [
    "Initialize default configs using SparkSession"
   ]
  },
  {
   "cell_type": "code",
   "execution_count": 5,
   "id": "6d75df6d",
   "metadata": {},
   "outputs": [],
   "source": [
    "# Build the SparkSession\n",
    "spark = SparkSession.builder.master(\"local\").appName(\"NewsAggregator\").config(\"spark.executor.memory\", \"1gb\").getOrCreate()"
   ]
  },
  {
   "cell_type": "code",
   "execution_count": 6,
   "id": "d2b287ef",
   "metadata": {},
   "outputs": [],
   "source": [
    "sc = spark.sparkContext"
   ]
  },
  {
   "cell_type": "code",
   "execution_count": 7,
   "id": "a3b4d121",
   "metadata": {},
   "outputs": [],
   "source": [
    "s3_bucket_path = 'News/uci-news-aggregator.csv'"
   ]
  },
  {
   "cell_type": "markdown",
   "id": "e9ff2111",
   "metadata": {},
   "source": [
    "Load dataset from local machine as a csv file"
   ]
  },
  {
   "cell_type": "code",
   "execution_count": 8,
   "id": "3b13cae0",
   "metadata": {},
   "outputs": [],
   "source": [
    "news_data = spark.read.csv(s3_bucket_path,header = 'True',inferSchema='True')"
   ]
  },
  {
   "cell_type": "markdown",
   "id": "48f8160f",
   "metadata": {},
   "source": [
    "Display top 20 rows"
   ]
  },
  {
   "cell_type": "code",
   "execution_count": 9,
   "id": "f8150f3b",
   "metadata": {},
   "outputs": [
    {
     "name": "stdout",
     "output_type": "stream",
     "text": [
      "+---+--------------------+--------------------+--------------------+--------+--------------------+--------------------+-------------+\n",
      "| ID|               TITLE|                 URL|           PUBLISHER|CATEGORY|               STORY|            HOSTNAME|    TIMESTAMP|\n",
      "+---+--------------------+--------------------+--------------------+--------+--------------------+--------------------+-------------+\n",
      "|  1|Fed official says...|http://www.latime...|   Los Angeles Times|       b|ddUyU0VZz0BRneMio...|     www.latimes.com|1394470370698|\n",
      "|  2|Fed's Charles Plo...|http://www.livemi...|            Livemint|       b|ddUyU0VZz0BRneMio...|    www.livemint.com|1394470371207|\n",
      "|  3|US open: Stocks f...|http://www.ifamag...|        IFA Magazine|       b|ddUyU0VZz0BRneMio...| www.ifamagazine.com|1394470371550|\n",
      "|  4|Fed risks falling...|http://www.ifamag...|        IFA Magazine|       b|ddUyU0VZz0BRneMio...| www.ifamagazine.com|1394470371793|\n",
      "|  5|Fed's Plosser: Na...|http://www.moneyn...|           Moneynews|       b|ddUyU0VZz0BRneMio...|   www.moneynews.com|1394470372027|\n",
      "|  6|Plosser: Fed May ...|http://www.nasdaq...|              NASDAQ|       b|ddUyU0VZz0BRneMio...|      www.nasdaq.com|1394470372212|\n",
      "|  7|Fed's Plosser: Ta...|http://www.market...|         MarketWatch|       b|ddUyU0VZz0BRneMio...| www.marketwatch.com|1394470372405|\n",
      "|  8|Fed's Plosser exp...|http://www.fxstre...|        FXstreet.com|       b|ddUyU0VZz0BRneMio...|    www.fxstreet.com|1394470372615|\n",
      "|  9|US jobs growth la...|http://economicti...|      Economic Times|       b|ddUyU0VZz0BRneMio...|economictimes.ind...|1394470372792|\n",
      "| 10|ECB unlikely to e...|http://www.iii.co...|Interactive Investor|       b|dPhGU51DcrolUIMxb...|       www.iii.co.uk|1394470501265|\n",
      "| 11|ECB unlikely to e...|http://in.reuters...|       Reuters India|       b|dPhGU51DcrolUIMxb...|      in.reuters.com|1394470501410|\n",
      "| 12|EU's half-baked b...|http://blogs.reut...| Reuters UK \\(blog\\)|       b|dPhGU51DcrolUIMxb...|   blogs.reuters.com|1394470501587|\n",
      "| 13|Europe reaches cr...|http://in.reuters...|             Reuters|       b|dPhGU51DcrolUIMxb...|      in.reuters.com|1394470501755|\n",
      "| 14|ECB FOCUS-Stronge...|http://in.reuters...|             Reuters|       b|dPhGU51DcrolUIMxb...|      in.reuters.com|1394470501948|\n",
      "| 15|EU aims for deal ...|http://main.omano...| Oman Daily Observer|       b|dPhGU51DcrolUIMxb...|main.omanobserver.om|1394470502141|\n",
      "| 16|Forex - Pound dro...|http://www.nasdaq...|              NASDAQ|       b|dPhGU51DcrolUIMxb...|      www.nasdaq.com|1394470502316|\n",
      "| 17|Noyer Says Strong...|http://www.sfgate...|San Francisco Chr...|       b|dPhGU51DcrolUIMxb...|      www.sfgate.com|1394470502543|\n",
      "| 18|EU Week Ahead Mar...|http://blogs.wsj....|Wall Street Journ...|       b|dPhGU51DcrolUIMxb...|       blogs.wsj.com|1394470502744|\n",
      "| 19|ECB member Noyer ...|http://www.ifamag...|        IFA Magazine|       b|dPhGU51DcrolUIMxb...| www.ifamagazine.com|1394470502946|\n",
      "| 20|Euro Anxieties Wa...|http://www.busine...|        Businessweek|       b|dPhGU51DcrolUIMxb...|www.businessweek.com|1394470503148|\n",
      "+---+--------------------+--------------------+--------------------+--------+--------------------+--------------------+-------------+\n",
      "only showing top 20 rows\n",
      "\n"
     ]
    }
   ],
   "source": [
    "news_data.show()"
   ]
  },
  {
   "cell_type": "code",
   "execution_count": 11,
   "id": "bc5040c9",
   "metadata": {},
   "outputs": [
    {
     "data": {
      "text/plain": [
       "422937"
      ]
     },
     "execution_count": 11,
     "metadata": {},
     "output_type": "execute_result"
    }
   ],
   "source": [
    "news_data.count()"
   ]
  },
  {
   "cell_type": "markdown",
   "id": "3df7795c",
   "metadata": {},
   "source": [
    "Select 'TITLE' and 'CATEGORY' columns from dataframe"
   ]
  },
  {
   "cell_type": "code",
   "execution_count": 12,
   "id": "6280dc2c",
   "metadata": {},
   "outputs": [],
   "source": [
    "title_category = news_data.select(\"TITLE\",\"CATEGORY\")"
   ]
  },
  {
   "cell_type": "markdown",
   "id": "44f6876f",
   "metadata": {},
   "source": [
    "Display top 20 rows from selected columns"
   ]
  },
  {
   "cell_type": "code",
   "execution_count": 13,
   "id": "e1064033",
   "metadata": {},
   "outputs": [
    {
     "name": "stdout",
     "output_type": "stream",
     "text": [
      "+--------------------+--------+\n",
      "|               TITLE|CATEGORY|\n",
      "+--------------------+--------+\n",
      "|Fed official says...|       b|\n",
      "|Fed's Charles Plo...|       b|\n",
      "|US open: Stocks f...|       b|\n",
      "|Fed risks falling...|       b|\n",
      "|Fed's Plosser: Na...|       b|\n",
      "|Plosser: Fed May ...|       b|\n",
      "|Fed's Plosser: Ta...|       b|\n",
      "|Fed's Plosser exp...|       b|\n",
      "|US jobs growth la...|       b|\n",
      "|ECB unlikely to e...|       b|\n",
      "|ECB unlikely to e...|       b|\n",
      "|EU's half-baked b...|       b|\n",
      "|Europe reaches cr...|       b|\n",
      "|ECB FOCUS-Stronge...|       b|\n",
      "|EU aims for deal ...|       b|\n",
      "|Forex - Pound dro...|       b|\n",
      "|Noyer Says Strong...|       b|\n",
      "|EU Week Ahead Mar...|       b|\n",
      "|ECB member Noyer ...|       b|\n",
      "|Euro Anxieties Wa...|       b|\n",
      "+--------------------+--------+\n",
      "only showing top 20 rows\n",
      "\n"
     ]
    }
   ],
   "source": [
    "title_category.show()"
   ]
  },
  {
   "cell_type": "markdown",
   "id": "15eae3e0",
   "metadata": {},
   "source": [
    "Define a function which shows null values from dataframe"
   ]
  },
  {
   "cell_type": "code",
   "execution_count": 14,
   "id": "5314fd97",
   "metadata": {},
   "outputs": [],
   "source": [
    "def null_value_count(df):\n",
    "    null_columns_counts = []\n",
    "    numRows = df.count()\n",
    "    for k in df.columns:\n",
    "        nullRows = df.where(col(k).isNull()).count()\n",
    "        if(nullRows > 0):\n",
    "            temp = k,nullRows\n",
    "            null_columns_counts.append(temp)\n",
    "    return(null_columns_counts)"
   ]
  },
  {
   "cell_type": "code",
   "execution_count": 15,
   "id": "acae40a4",
   "metadata": {},
   "outputs": [],
   "source": [
    "null_columns_count_list = null_value_count(title_category)"
   ]
  },
  {
   "attachments": {},
   "cell_type": "markdown",
   "id": "4e31701d",
   "metadata": {},
   "source": [
    "Display number of null-values rows in 'TITLE' and 'CATEGORY' columns\n",
    "As we can see, there is 389 and 516 null-values in 'TITLE' and 'CATEGORY' columns respectively"
   ]
  },
  {
   "cell_type": "code",
   "execution_count": 16,
   "id": "74010a13",
   "metadata": {},
   "outputs": [
    {
     "name": "stdout",
     "output_type": "stream",
     "text": [
      "+----------------------+-----------------+\n",
      "|Column_With_Null_Value|Null_Values_Count|\n",
      "+----------------------+-----------------+\n",
      "|                 TITLE|              389|\n",
      "|              CATEGORY|              516|\n",
      "+----------------------+-----------------+\n",
      "\n"
     ]
    }
   ],
   "source": [
    "spark.createDataFrame(null_columns_count_list, ['Column_With_Null_Value', 'Null_Values_Count']).show()"
   ]
  },
  {
   "attachments": {},
   "cell_type": "markdown",
   "id": "c1816070",
   "metadata": {},
   "source": [
    "Drop null-values from dataframe"
   ]
  },
  {
   "cell_type": "code",
   "execution_count": 17,
   "id": "7798b9e2",
   "metadata": {},
   "outputs": [],
   "source": [
    "title_category = title_category.dropna()"
   ]
  },
  {
   "attachments": {},
   "cell_type": "markdown",
   "id": "93c1c2c9",
   "metadata": {},
   "source": [
    "Count the number of rows after removing null-values"
   ]
  },
  {
   "cell_type": "code",
   "execution_count": 18,
   "id": "7a41f822",
   "metadata": {},
   "outputs": [
    {
     "data": {
      "text/plain": [
       "422421"
      ]
     },
     "execution_count": 18,
     "metadata": {},
     "output_type": "execute_result"
    }
   ],
   "source": [
    "title_category.count()"
   ]
  },
  {
   "attachments": {},
   "cell_type": "markdown",
   "id": "4a5bd879",
   "metadata": {},
   "source": [
    "Display top 20 rows after removing null-values"
   ]
  },
  {
   "cell_type": "code",
   "execution_count": 19,
   "id": "87dbf640",
   "metadata": {},
   "outputs": [
    {
     "name": "stdout",
     "output_type": "stream",
     "text": [
      "+---------------------------------------------------------------------------+--------+\n",
      "|TITLE                                                                      |CATEGORY|\n",
      "+---------------------------------------------------------------------------+--------+\n",
      "|Fed official says weak data caused by weather, should not slow taper       |b       |\n",
      "|Fed's Charles Plosser sees high bar for change in pace of tapering         |b       |\n",
      "|US open: Stocks fall after Fed official hints at accelerated tapering      |b       |\n",
      "|Fed risks falling 'behind the curve', Charles Plosser says                 |b       |\n",
      "|Fed's Plosser: Nasty Weather Has Curbed Job Growth                         |b       |\n",
      "|Plosser: Fed May Have to Accelerate Tapering Pace                          |b       |\n",
      "|Fed's Plosser: Taper pace may be too slow                                  |b       |\n",
      "|Fed's Plosser expects US unemployment to fall to 6.2% by the end of 2014   |b       |\n",
      "|US jobs growth last month hit by weather:Fed President Charles Plosser     |b       |\n",
      "|ECB unlikely to end sterilisation of SMP purchases - traders               |b       |\n",
      "|ECB unlikely to end sterilization of SMP purchases: traders                |b       |\n",
      "|EU's half-baked bank union could work                                      |b       |\n",
      "|Europe reaches crunch point on banking union                               |b       |\n",
      "|ECB FOCUS-Stronger euro drowns out ECB's message to keep rates low for  ...|b       |\n",
      "|EU aims for deal on tackling failing banks                                 |b       |\n",
      "|Forex - Pound drops to one-month lows against euro                         |b       |\n",
      "|Noyer Says Strong Euro Creates Unwarranted Economic Pressure               |b       |\n",
      "|EU Week Ahead March 10-14: Bank Resolution, Transparency, Ukraine          |b       |\n",
      "|ECB member Noyer is 'very open to all kinds of tools'                      |b       |\n",
      "|Euro Anxieties Wane as Bunds Top Treasuries, Spain Debt Rallies            |b       |\n",
      "+---------------------------------------------------------------------------+--------+\n",
      "only showing top 20 rows\n",
      "\n"
     ]
    }
   ],
   "source": [
    "title_category.show(truncate=False)"
   ]
  },
  {
   "cell_type": "markdown",
   "id": "880b354f",
   "metadata": {},
   "source": [
    "Count the number of duplicate quantity in 'Category' column"
   ]
  },
  {
   "cell_type": "code",
   "execution_count": 20,
   "id": "97a78b27",
   "metadata": {},
   "outputs": [
    {
     "data": {
      "text/plain": [
       "265"
      ]
     },
     "execution_count": 20,
     "metadata": {},
     "output_type": "execute_result"
    }
   ],
   "source": [
    "title_category.select(\"Category\").distinct().count()"
   ]
  },
  {
   "cell_type": "markdown",
   "id": "2eec9712",
   "metadata": {},
   "source": [
    "In this step, first I groupby dataframe by 'Category' column. Then I order it based on 'count' column. Finally, I display the result."
   ]
  },
  {
   "cell_type": "code",
   "execution_count": 21,
   "id": "9f70f4f2",
   "metadata": {},
   "outputs": [
    {
     "name": "stdout",
     "output_type": "stream",
     "text": [
      "+--------------------+------+\n",
      "|Category            |count |\n",
      "+--------------------+------+\n",
      "|e                   |152127|\n",
      "|b                   |115935|\n",
      "|t                   |108237|\n",
      "|m                   |45616 |\n",
      "|Us Magazine         |31    |\n",
      "|GossipCop           |20    |\n",
      "|Contactmusic.com    |20    |\n",
      "|Complex.com         |12    |\n",
      "|CBS News            |12    |\n",
      "|The Hollywood Gossip|11    |\n",
      "|HipHopDX            |11    |\n",
      "|HeadlinePlanet.com  |10    |\n",
      "|We Got This Covered |10    |\n",
      "|Gamepur             |8     |\n",
      "|TooFab.com          |7     |\n",
      "|Wetpaint            |7     |\n",
      "|WorstPreviews.com   |7     |\n",
      "|Consequence of Sound|7     |\n",
      "|The Escapist        |6     |\n",
      "|Reality TV World    |5     |\n",
      "+--------------------+------+\n",
      "only showing top 20 rows\n",
      "\n"
     ]
    }
   ],
   "source": [
    "title_category.groupBy(\"Category\").count().orderBy(col(\"count\").desc()).show(truncate=False)"
   ]
  },
  {
   "cell_type": "markdown",
   "id": "3388d178",
   "metadata": {},
   "source": [
    "In this step, same as previous step, first I groupby dataframe by 'TITLE' column. Then I order it based on 'count' column. Finally, I display the result."
   ]
  },
  {
   "cell_type": "code",
   "execution_count": 22,
   "id": "b5afaafb",
   "metadata": {},
   "outputs": [
    {
     "name": "stdout",
     "output_type": "stream",
     "text": [
      "+----------------------------------------------------------------------------------+-----+\n",
      "|TITLE                                                                             |count|\n",
      "+----------------------------------------------------------------------------------+-----+\n",
      "|The article requested cannot be found! Please refresh your browser or go back  ...|145  |\n",
      "|Business Highlights                                                               |59   |\n",
      "|Posted by Parvez Jabri                                                            |59   |\n",
      "|Posted by Imaduddin                                                               |53   |\n",
      "|Posted by Shoaib-ur-Rehman Siddiqui                                               |52   |\n",
      "|(click the phrases to see a list)                                                 |51   |\n",
      "|Business Wire                                                                     |41   |\n",
      "|PR Newswire                                                                       |38   |\n",
      "|Posted by Muhammad Iqbal                                                          |35   |\n",
      "|Change text size for the story                                                    |34   |\n",
      "|Get the Most Popular Beauty World News Stories in a Weekly Newsletter             |34   |\n",
      "|International markets roundup                                                     |33   |\n",
      "|Business briefs                                                                   |33   |\n",
      "|India Morning Call-Global Markets                                                 |27   |\n",
      "|10 Things to Know for Today                                                       |22   |\n",
      "|Breaking news                                                                     |21   |\n",
      "|Perez Recommends                                                                  |19   |\n",
      "|From ColumbusAlive.com                                                            |18   |\n",
      "|Texas Weekly Gas Price Update and Outlook                                         |18   |\n",
      "|The Daily Dish                                                                    |17   |\n",
      "+----------------------------------------------------------------------------------+-----+\n",
      "only showing top 20 rows\n",
      "\n"
     ]
    }
   ],
   "source": [
    "title_category.groupBy(\"TITLE\").count().orderBy(col(\"count\").desc()).show(truncate=False)"
   ]
  },
  {
   "cell_type": "markdown",
   "id": "3a3ef643",
   "metadata": {},
   "source": [
    "### Data Cleaning"
   ]
  },
  {
   "attachments": {},
   "cell_type": "markdown",
   "id": "e1e232db",
   "metadata": {},
   "source": [
    "Perform regular expression operation on 'only_str' column, for removing numbers from titles"
   ]
  },
  {
   "cell_type": "code",
   "execution_count": 23,
   "id": "e6e27605",
   "metadata": {},
   "outputs": [],
   "source": [
    "title_category = title_category.withColumn(\"only_str\",regexp_replace(col('TITLE'), '\\d+', ''))"
   ]
  },
  {
   "cell_type": "markdown",
   "id": "3e106d91",
   "metadata": {},
   "source": [
    "Display 'TITLE' and 'only_str' columns after performing 'regexp' operation "
   ]
  },
  {
   "cell_type": "code",
   "execution_count": 24,
   "id": "12b78faf",
   "metadata": {},
   "outputs": [
    {
     "name": "stdout",
     "output_type": "stream",
     "text": [
      "+---------------------------------------------------------------------------+---------------------------------------------------------------------------+\n",
      "|TITLE                                                                      |only_str                                                                   |\n",
      "+---------------------------------------------------------------------------+---------------------------------------------------------------------------+\n",
      "|Fed official says weak data caused by weather, should not slow taper       |Fed official says weak data caused by weather, should not slow taper       |\n",
      "|Fed's Charles Plosser sees high bar for change in pace of tapering         |Fed's Charles Plosser sees high bar for change in pace of tapering         |\n",
      "|US open: Stocks fall after Fed official hints at accelerated tapering      |US open: Stocks fall after Fed official hints at accelerated tapering      |\n",
      "|Fed risks falling 'behind the curve', Charles Plosser says                 |Fed risks falling 'behind the curve', Charles Plosser says                 |\n",
      "|Fed's Plosser: Nasty Weather Has Curbed Job Growth                         |Fed's Plosser: Nasty Weather Has Curbed Job Growth                         |\n",
      "|Plosser: Fed May Have to Accelerate Tapering Pace                          |Plosser: Fed May Have to Accelerate Tapering Pace                          |\n",
      "|Fed's Plosser: Taper pace may be too slow                                  |Fed's Plosser: Taper pace may be too slow                                  |\n",
      "|Fed's Plosser expects US unemployment to fall to 6.2% by the end of 2014   |Fed's Plosser expects US unemployment to fall to .% by the end of          |\n",
      "|US jobs growth last month hit by weather:Fed President Charles Plosser     |US jobs growth last month hit by weather:Fed President Charles Plosser     |\n",
      "|ECB unlikely to end sterilisation of SMP purchases - traders               |ECB unlikely to end sterilisation of SMP purchases - traders               |\n",
      "|ECB unlikely to end sterilization of SMP purchases: traders                |ECB unlikely to end sterilization of SMP purchases: traders                |\n",
      "|EU's half-baked bank union could work                                      |EU's half-baked bank union could work                                      |\n",
      "|Europe reaches crunch point on banking union                               |Europe reaches crunch point on banking union                               |\n",
      "|ECB FOCUS-Stronger euro drowns out ECB's message to keep rates low for  ...|ECB FOCUS-Stronger euro drowns out ECB's message to keep rates low for  ...|\n",
      "|EU aims for deal on tackling failing banks                                 |EU aims for deal on tackling failing banks                                 |\n",
      "|Forex - Pound drops to one-month lows against euro                         |Forex - Pound drops to one-month lows against euro                         |\n",
      "|Noyer Says Strong Euro Creates Unwarranted Economic Pressure               |Noyer Says Strong Euro Creates Unwarranted Economic Pressure               |\n",
      "|EU Week Ahead March 10-14: Bank Resolution, Transparency, Ukraine          |EU Week Ahead March -: Bank Resolution, Transparency, Ukraine              |\n",
      "|ECB member Noyer is 'very open to all kinds of tools'                      |ECB member Noyer is 'very open to all kinds of tools'                      |\n",
      "|Euro Anxieties Wane as Bunds Top Treasuries, Spain Debt Rallies            |Euro Anxieties Wane as Bunds Top Treasuries, Spain Debt Rallies            |\n",
      "+---------------------------------------------------------------------------+---------------------------------------------------------------------------+\n",
      "only showing top 20 rows\n",
      "\n"
     ]
    }
   ],
   "source": [
    "title_category.select(\"TITLE\",\"only_str\").show(truncate=False)"
   ]
  },
  {
   "cell_type": "markdown",
   "id": "989740e5",
   "metadata": {},
   "source": [
    "Split text to words by RegexTokenizer"
   ]
  },
  {
   "cell_type": "code",
   "execution_count": 25,
   "id": "f4b9cf1f",
   "metadata": {},
   "outputs": [],
   "source": [
    "regex_tokenizer = RegexTokenizer(inputCol=\"only_str\", outputCol=\"words\", pattern=\"\\W\")\n",
    "raw_words = regex_tokenizer.transform(title_category)"
   ]
  },
  {
   "cell_type": "code",
   "execution_count": 26,
   "id": "4d0bbf20",
   "metadata": {},
   "outputs": [
    {
     "name": "stdout",
     "output_type": "stream",
     "text": [
      "+--------------------+--------+--------------------+--------------------+\n",
      "|               TITLE|CATEGORY|            only_str|               words|\n",
      "+--------------------+--------+--------------------+--------------------+\n",
      "|Fed official says...|       b|Fed official says...|[fed, official, s...|\n",
      "|Fed's Charles Plo...|       b|Fed's Charles Plo...|[fed, s, charles,...|\n",
      "|US open: Stocks f...|       b|US open: Stocks f...|[us, open, stocks...|\n",
      "|Fed risks falling...|       b|Fed risks falling...|[fed, risks, fall...|\n",
      "|Fed's Plosser: Na...|       b|Fed's Plosser: Na...|[fed, s, plosser,...|\n",
      "|Plosser: Fed May ...|       b|Plosser: Fed May ...|[plosser, fed, ma...|\n",
      "|Fed's Plosser: Ta...|       b|Fed's Plosser: Ta...|[fed, s, plosser,...|\n",
      "|Fed's Plosser exp...|       b|Fed's Plosser exp...|[fed, s, plosser,...|\n",
      "|US jobs growth la...|       b|US jobs growth la...|[us, jobs, growth...|\n",
      "|ECB unlikely to e...|       b|ECB unlikely to e...|[ecb, unlikely, t...|\n",
      "|ECB unlikely to e...|       b|ECB unlikely to e...|[ecb, unlikely, t...|\n",
      "|EU's half-baked b...|       b|EU's half-baked b...|[eu, s, half, bak...|\n",
      "|Europe reaches cr...|       b|Europe reaches cr...|[europe, reaches,...|\n",
      "|ECB FOCUS-Stronge...|       b|ECB FOCUS-Stronge...|[ecb, focus, stro...|\n",
      "|EU aims for deal ...|       b|EU aims for deal ...|[eu, aims, for, d...|\n",
      "|Forex - Pound dro...|       b|Forex - Pound dro...|[forex, pound, dr...|\n",
      "|Noyer Says Strong...|       b|Noyer Says Strong...|[noyer, says, str...|\n",
      "|EU Week Ahead Mar...|       b|EU Week Ahead Mar...|[eu, week, ahead,...|\n",
      "|ECB member Noyer ...|       b|ECB member Noyer ...|[ecb, member, noy...|\n",
      "|Euro Anxieties Wa...|       b|Euro Anxieties Wa...|[euro, anxieties,...|\n",
      "+--------------------+--------+--------------------+--------------------+\n",
      "only showing top 20 rows\n",
      "\n"
     ]
    }
   ],
   "source": [
    "raw_words.show()"
   ]
  },
  {
   "attachments": {},
   "cell_type": "markdown",
   "id": "e58883d1",
   "metadata": {},
   "source": [
    "Remove stop words"
   ]
  },
  {
   "cell_type": "code",
   "execution_count": 27,
   "id": "1fe2f1b7",
   "metadata": {},
   "outputs": [],
   "source": [
    "remover = StopWordsRemover(inputCol=\"words\", outputCol=\"filtered\")\n",
    "words_df = remover.transform(raw_words)"
   ]
  },
  {
   "cell_type": "code",
   "execution_count": 28,
   "id": "6e12bfcd",
   "metadata": {},
   "outputs": [
    {
     "name": "stdout",
     "output_type": "stream",
     "text": [
      "+-------------------------------------------------------------------------------------+-------------------------------------------------------------------------------+\n",
      "|words                                                                                |filtered                                                                       |\n",
      "+-------------------------------------------------------------------------------------+-------------------------------------------------------------------------------+\n",
      "|[fed, official, says, weak, data, caused, by, weather, should, not, slow, taper]     |[fed, official, says, weak, data, caused, weather, slow, taper]                |\n",
      "|[fed, s, charles, plosser, sees, high, bar, for, change, in, pace, of, tapering]     |[fed, charles, plosser, sees, high, bar, change, pace, tapering]               |\n",
      "|[us, open, stocks, fall, after, fed, official, hints, at, accelerated, tapering]     |[us, open, stocks, fall, fed, official, hints, accelerated, tapering]          |\n",
      "|[fed, risks, falling, behind, the, curve, charles, plosser, says]                    |[fed, risks, falling, behind, curve, charles, plosser, says]                   |\n",
      "|[fed, s, plosser, nasty, weather, has, curbed, job, growth]                          |[fed, plosser, nasty, weather, curbed, job, growth]                            |\n",
      "|[plosser, fed, may, have, to, accelerate, tapering, pace]                            |[plosser, fed, may, accelerate, tapering, pace]                                |\n",
      "|[fed, s, plosser, taper, pace, may, be, too, slow]                                   |[fed, plosser, taper, pace, may, slow]                                         |\n",
      "|[fed, s, plosser, expects, us, unemployment, to, fall, to, by, the, end, of]         |[fed, plosser, expects, us, unemployment, fall, end]                           |\n",
      "|[us, jobs, growth, last, month, hit, by, weather, fed, president, charles, plosser]  |[us, jobs, growth, last, month, hit, weather, fed, president, charles, plosser]|\n",
      "|[ecb, unlikely, to, end, sterilisation, of, smp, purchases, traders]                 |[ecb, unlikely, end, sterilisation, smp, purchases, traders]                   |\n",
      "|[ecb, unlikely, to, end, sterilization, of, smp, purchases, traders]                 |[ecb, unlikely, end, sterilization, smp, purchases, traders]                   |\n",
      "|[eu, s, half, baked, bank, union, could, work]                                       |[eu, half, baked, bank, union, work]                                           |\n",
      "|[europe, reaches, crunch, point, on, banking, union]                                 |[europe, reaches, crunch, point, banking, union]                               |\n",
      "|[ecb, focus, stronger, euro, drowns, out, ecb, s, message, to, keep, rates, low, for]|[ecb, focus, stronger, euro, drowns, ecb, message, keep, rates, low]           |\n",
      "|[eu, aims, for, deal, on, tackling, failing, banks]                                  |[eu, aims, deal, tackling, failing, banks]                                     |\n",
      "|[forex, pound, drops, to, one, month, lows, against, euro]                           |[forex, pound, drops, one, month, lows, euro]                                  |\n",
      "|[noyer, says, strong, euro, creates, unwarranted, economic, pressure]                |[noyer, says, strong, euro, creates, unwarranted, economic, pressure]          |\n",
      "|[eu, week, ahead, march, bank, resolution, transparency, ukraine]                    |[eu, week, ahead, march, bank, resolution, transparency, ukraine]              |\n",
      "|[ecb, member, noyer, is, very, open, to, all, kinds, of, tools]                      |[ecb, member, noyer, open, kinds, tools]                                       |\n",
      "|[euro, anxieties, wane, as, bunds, top, treasuries, spain, debt, rallies]            |[euro, anxieties, wane, bunds, top, treasuries, spain, debt, rallies]          |\n",
      "+-------------------------------------------------------------------------------------+-------------------------------------------------------------------------------+\n",
      "only showing top 20 rows\n",
      "\n"
     ]
    }
   ],
   "source": [
    "words_df.select(\"words\",\"filtered\").show(truncate=False)"
   ]
  },
  {
   "cell_type": "markdown",
   "id": "f7ec491c",
   "metadata": {},
   "source": [
    "Encode column of category to a column of category indices"
   ]
  },
  {
   "cell_type": "code",
   "execution_count": 29,
   "id": "3a180ead",
   "metadata": {},
   "outputs": [],
   "source": [
    "indexer = StringIndexer(inputCol=\"CATEGORY\", outputCol=\"categoryIndex\")\n",
    "feature_data = indexer.fit(words_df).transform(words_df)"
   ]
  },
  {
   "cell_type": "code",
   "execution_count": 30,
   "id": "ee74096a",
   "metadata": {},
   "outputs": [],
   "source": [
    "feature_data = feature_data.withColumnRenamed(\"CATEGORY\",\"label\")"
   ]
  },
  {
   "cell_type": "code",
   "execution_count": 31,
   "id": "f8c31a7f",
   "metadata": {},
   "outputs": [
    {
     "data": {
      "text/plain": [
       "DataFrame[TITLE: string, label: string, only_str: string, words: array<string>, filtered: array<string>, categoryIndex: double]"
      ]
     },
     "execution_count": 31,
     "metadata": {},
     "output_type": "execute_result"
    }
   ],
   "source": [
    "feature_data"
   ]
  },
  {
   "cell_type": "code",
   "execution_count": 32,
   "id": "d1c0c3f7",
   "metadata": {},
   "outputs": [
    {
     "name": "stdout",
     "output_type": "stream",
     "text": [
      "+-----+-------------+\n",
      "|label|categoryIndex|\n",
      "+-----+-------------+\n",
      "|    b|          1.0|\n",
      "|    b|          1.0|\n",
      "|    b|          1.0|\n",
      "|    b|          1.0|\n",
      "|    b|          1.0|\n",
      "|    b|          1.0|\n",
      "|    b|          1.0|\n",
      "|    b|          1.0|\n",
      "|    b|          1.0|\n",
      "|    b|          1.0|\n",
      "|    b|          1.0|\n",
      "|    b|          1.0|\n",
      "|    b|          1.0|\n",
      "|    b|          1.0|\n",
      "|    b|          1.0|\n",
      "|    b|          1.0|\n",
      "|    b|          1.0|\n",
      "|    b|          1.0|\n",
      "|    b|          1.0|\n",
      "|    b|          1.0|\n",
      "+-----+-------------+\n",
      "only showing top 20 rows\n",
      "\n"
     ]
    }
   ],
   "source": [
    "feature_data.select(\"label\",\"categoryIndex\").show()"
   ]
  },
  {
   "cell_type": "markdown",
   "id": "265196d8",
   "metadata": {},
   "source": [
    "Convert text into vectors of token counts"
   ]
  },
  {
   "cell_type": "code",
   "execution_count": 33,
   "id": "ad9b2786",
   "metadata": {},
   "outputs": [],
   "source": [
    "cv = CountVectorizer(inputCol=\"filtered\", outputCol=\"features\")\n",
    "model = cv.fit(feature_data)\n",
    "countVectorizer_feateures = model.transform(feature_data)"
   ]
  },
  {
   "cell_type": "markdown",
   "id": "4a2ae29c",
   "metadata": {},
   "source": [
    "### Modelling"
   ]
  },
  {
   "cell_type": "markdown",
   "id": "1a9fd446",
   "metadata": {},
   "source": [
    "Create Training & Test datasets"
   ]
  },
  {
   "cell_type": "code",
   "execution_count": 34,
   "id": "0d38f426",
   "metadata": {},
   "outputs": [],
   "source": [
    "(trainingData, testData) = countVectorizer_feateures.randomSplit([0.8, 0.2],seed = 11)"
   ]
  },
  {
   "cell_type": "code",
   "execution_count": 35,
   "id": "c809de37",
   "metadata": {},
   "outputs": [
    {
     "data": {
      "text/plain": [
       "DataFrame[TITLE: string, label: string, only_str: string, words: array<string>, filtered: array<string>, categoryIndex: double, features: vector]"
      ]
     },
     "execution_count": 35,
     "metadata": {},
     "output_type": "execute_result"
    }
   ],
   "source": [
    "trainingData"
   ]
  },
  {
   "cell_type": "markdown",
   "id": "f10a53d8",
   "metadata": {},
   "source": [
    "### Naive bayes method"
   ]
  },
  {
   "cell_type": "markdown",
   "id": "de227f1e",
   "metadata": {},
   "source": [
    "Train the NaiveBayes model"
   ]
  },
  {
   "cell_type": "code",
   "execution_count": 47,
   "id": "548103b5",
   "metadata": {},
   "outputs": [],
   "source": [
    "nb = NaiveBayes(modelType=\"multinomial\",labelCol=\"categoryIndex\", featuresCol=\"features\")\n",
    "nbModel = nb.fit(trainingData)\n",
    "nb_predictions = nbModel.transform(testData)"
   ]
  },
  {
   "attachments": {},
   "cell_type": "markdown",
   "id": "4eac7fb7",
   "metadata": {},
   "source": [
    "Display predication of NaiveBayes model on top 10 rows"
   ]
  },
  {
   "cell_type": "code",
   "execution_count": 48,
   "id": "3835cb51",
   "metadata": {},
   "outputs": [
    {
     "name": "stdout",
     "output_type": "stream",
     "text": [
      "+----------+-------------+--------------------+\n",
      "|prediction|categoryIndex|            features|\n",
      "+----------+-------------+--------------------+\n",
      "|       0.0|          0.0|(49043,[520,585,6...|\n",
      "|       0.0|          0.0|(49043,[331,1026,...|\n",
      "|       0.0|          0.0|(49043,[22,53,555...|\n",
      "|       0.0|          0.0|(49043,[167,553,9...|\n",
      "|       2.0|          2.0|(49043,[7,95,353,...|\n",
      "|       0.0|          0.0|(49043,[4,942,109...|\n",
      "|       0.0|          0.0|(49043,[17,287,10...|\n",
      "|       0.0|          0.0|(49043,[6,21,22,5...|\n",
      "|       0.0|          0.0|(49043,[21,22,50,...|\n",
      "|       0.0|          0.0|(49043,[21,22,50,...|\n",
      "+----------+-------------+--------------------+\n",
      "only showing top 10 rows\n",
      "\n"
     ]
    }
   ],
   "source": [
    "nb_predictions.select(\"prediction\", \"categoryIndex\", \"features\").show(10)"
   ]
  },
  {
   "attachments": {},
   "cell_type": "markdown",
   "id": "382012e5",
   "metadata": {},
   "source": [
    "Evaluate the performance of NaiveBayes model"
   ]
  },
  {
   "cell_type": "code",
   "execution_count": 37,
   "id": "be2eadbe",
   "metadata": {},
   "outputs": [
    {
     "name": "stdout",
     "output_type": "stream",
     "text": [
      "Accuracy of NaiveBayes is = 0.925271\n",
      "Test Error of NaiveBayes = 0.074729 \n"
     ]
    }
   ],
   "source": [
    "evaluator = MulticlassClassificationEvaluator(labelCol=\"categoryIndex\", predictionCol=\"prediction\", metricName=\"accuracy\")\n",
    "nb_accuracy = evaluator.evaluate(nb_predictions)\n",
    "print(\"Accuracy of NaiveBayes is = %g\"% (nb_accuracy))\n",
    "print(\"Test Error of NaiveBayes = %g \" % (1.0 - nb_accuracy))"
   ]
  },
  {
   "cell_type": "markdown",
   "id": "a658f76d",
   "metadata": {},
   "source": [
    "### DecisionTreeClassifier"
   ]
  },
  {
   "attachments": {},
   "cell_type": "markdown",
   "id": "66aec2d4",
   "metadata": {},
   "source": [
    "Train the DecisionTreeClassifier model"
   ]
  },
  {
   "cell_type": "code",
   "execution_count": 36,
   "id": "8df4b0d0",
   "metadata": {},
   "outputs": [],
   "source": [
    "from pyspark.ml.classification import DecisionTreeClassifier\n",
    "from pyspark.ml.evaluation import MulticlassClassificationEvaluator\n",
    "\n",
    "dt = DecisionTreeClassifier(labelCol=\"categoryIndex\", featuresCol=\"features\")\n",
    "dt_model = dt.fit(trainingData)"
   ]
  },
  {
   "cell_type": "code",
   "execution_count": 37,
   "id": "6ff25166",
   "metadata": {},
   "outputs": [],
   "source": [
    "dt_predictions = dt_model.transform(testData)"
   ]
  },
  {
   "attachments": {},
   "cell_type": "markdown",
   "id": "ddfccb8b",
   "metadata": {},
   "source": [
    "Evaluate the performance of DecisionTreeClassifier model"
   ]
  },
  {
   "cell_type": "code",
   "execution_count": 38,
   "id": "ddf7e3aa",
   "metadata": {},
   "outputs": [
    {
     "name": "stdout",
     "output_type": "stream",
     "text": [
      "Accuracy of DT is = 0.451625\n",
      "Test Error of DT = 0.548375 \n"
     ]
    }
   ],
   "source": [
    "evaluator = MulticlassClassificationEvaluator(labelCol=\"categoryIndex\", predictionCol=\"prediction\", metricName=\"accuracy\")\n",
    "dt_accuracy = evaluator.evaluate(dt_predictions)\n",
    "print(\"Accuracy of DT is = %g\"% (dt_accuracy))\n",
    "print(\"Test Error of DT = %g \" % (1.0 - dt_accuracy))"
   ]
  },
  {
   "attachments": {},
   "cell_type": "markdown",
   "id": "831b0107",
   "metadata": {},
   "source": [
    "Display predication of DecisionTreeClassifier model on top 10 rows"
   ]
  },
  {
   "cell_type": "code",
   "execution_count": 45,
   "id": "117fe4c0",
   "metadata": {},
   "outputs": [
    {
     "name": "stdout",
     "output_type": "stream",
     "text": [
      "+----------+-------------+--------------------+\n",
      "|prediction|categoryIndex|            features|\n",
      "+----------+-------------+--------------------+\n",
      "|       0.0|          0.0|(49043,[520,585,6...|\n",
      "|       0.0|          0.0|(49043,[331,1026,...|\n",
      "|       0.0|          0.0|(49043,[22,53,555...|\n",
      "|       0.0|          0.0|(49043,[167,553,9...|\n",
      "|       2.0|          2.0|(49043,[7,95,353,...|\n",
      "|       0.0|          0.0|(49043,[4,942,109...|\n",
      "|       0.0|          0.0|(49043,[17,287,10...|\n",
      "|       0.0|          0.0|(49043,[6,21,22,5...|\n",
      "|       0.0|          0.0|(49043,[21,22,50,...|\n",
      "|       0.0|          0.0|(49043,[21,22,50,...|\n",
      "+----------+-------------+--------------------+\n",
      "only showing top 10 rows\n",
      "\n"
     ]
    }
   ],
   "source": [
    "dt_predictions.select(\"prediction\", \"categoryIndex\", \"features\").show(10)"
   ]
  },
  {
   "cell_type": "markdown",
   "id": "78cb5ffe",
   "metadata": {},
   "source": [
    "### RandomForestClassifier"
   ]
  },
  {
   "attachments": {},
   "cell_type": "markdown",
   "id": "5da0cb7e",
   "metadata": {},
   "source": [
    "Train the RandomForestClassifier model"
   ]
  },
  {
   "cell_type": "code",
   "execution_count": 40,
   "id": "cf9480f9",
   "metadata": {},
   "outputs": [],
   "source": [
    "from pyspark.ml.classification import RandomForestClassifier\n",
    "\n",
    "rf = RandomForestClassifier(labelCol=\"categoryIndex\", featuresCol=\"features\", numTrees=10)\n",
    "rf_model = rf.fit(trainingData)"
   ]
  },
  {
   "cell_type": "code",
   "execution_count": 41,
   "id": "2e9da1b7",
   "metadata": {},
   "outputs": [],
   "source": [
    "rf_predictions = rf_model.transform(testData)"
   ]
  },
  {
   "attachments": {},
   "cell_type": "markdown",
   "id": "01832018",
   "metadata": {},
   "source": [
    "Evaluate the performance of RandomForestClassifier model"
   ]
  },
  {
   "cell_type": "code",
   "execution_count": 42,
   "id": "1eca4bdb",
   "metadata": {},
   "outputs": [
    {
     "name": "stdout",
     "output_type": "stream",
     "text": [
      "Accuracy of DT is = 0.398267\n",
      "Test Error of DT = 0.601733 \n"
     ]
    }
   ],
   "source": [
    "evaluator = MulticlassClassificationEvaluator(labelCol=\"categoryIndex\", predictionCol=\"prediction\", metricName=\"accuracy\")\n",
    "rf_accuracy = evaluator.evaluate(rf_predictions)\n",
    "print(\"Accuracy of DT is = %g\"% (rf_accuracy))\n",
    "print(\"Test Error of DT = %g \" % (1.0 - rf_accuracy))"
   ]
  },
  {
   "attachments": {},
   "cell_type": "markdown",
   "id": "6d6bcbd9",
   "metadata": {},
   "source": [
    "Display predication of RandomForestClassifier model on top 10 rows"
   ]
  },
  {
   "cell_type": "code",
   "execution_count": 46,
   "id": "102ba34e",
   "metadata": {},
   "outputs": [
    {
     "name": "stdout",
     "output_type": "stream",
     "text": [
      "+----------+-------------+--------------------+\n",
      "|prediction|categoryIndex|            features|\n",
      "+----------+-------------+--------------------+\n",
      "|       0.0|          0.0|(49043,[520,585,6...|\n",
      "|       0.0|          0.0|(49043,[331,1026,...|\n",
      "|       0.0|          0.0|(49043,[22,53,555...|\n",
      "|       0.0|          0.0|(49043,[167,553,9...|\n",
      "|       0.0|          2.0|(49043,[7,95,353,...|\n",
      "|       0.0|          0.0|(49043,[4,942,109...|\n",
      "|       0.0|          0.0|(49043,[17,287,10...|\n",
      "|       0.0|          0.0|(49043,[6,21,22,5...|\n",
      "|       0.0|          0.0|(49043,[21,22,50,...|\n",
      "|       0.0|          0.0|(49043,[21,22,50,...|\n",
      "+----------+-------------+--------------------+\n",
      "only showing top 10 rows\n",
      "\n"
     ]
    }
   ],
   "source": [
    "rf_predictions.select(\"prediction\", \"categoryIndex\", \"features\").show(10)"
   ]
  },
  {
   "attachments": {},
   "cell_type": "markdown",
   "id": "3cdf6cd5",
   "metadata": {},
   "source": [
    "The results show that NaiveBayes model has better performance in comparison with two other models"
   ]
  },
  {
   "cell_type": "code",
   "execution_count": null,
   "id": "5b477401",
   "metadata": {},
   "outputs": [],
   "source": [
    "spark.stop()"
   ]
  }
 ],
 "metadata": {
  "kernelspec": {
   "display_name": "Python 3 (ipykernel)",
   "language": "python",
   "name": "python3"
  },
  "language_info": {
   "codemirror_mode": {
    "name": "ipython",
    "version": 3
   },
   "file_extension": ".py",
   "mimetype": "text/x-python",
   "name": "python",
   "nbconvert_exporter": "python",
   "pygments_lexer": "ipython3",
   "version": "3.10.9"
  },
  "vscode": {
   "interpreter": {
    "hash": "31f2aee4e71d21fbe5cf8b01ff0e069b9275f58929596ceb00d14d90e3e16cd6"
   }
  }
 },
 "nbformat": 4,
 "nbformat_minor": 5
}
